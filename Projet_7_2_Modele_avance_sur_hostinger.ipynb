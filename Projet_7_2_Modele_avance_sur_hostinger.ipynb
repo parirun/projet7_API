{
 "cells": [
  {
   "cell_type": "code",
   "execution_count": 1,
   "id": "53dd9f1e-869b-4cf6-8632-ae01c652a018",
   "metadata": {},
   "outputs": [
    {
     "name": "stdout",
     "output_type": "stream",
     "text": [
      "Requirement already satisfied: fastapi in c:\\users\\parir\\anaconda3\\envs\\projet7\\lib\\site-packages (from -r requirements.txt (line 1)) (0.115.6)\n",
      "Requirement already satisfied: torch in c:\\users\\parir\\anaconda3\\envs\\projet7\\lib\\site-packages (from -r requirements.txt (line 2)) (2.6.0)\n",
      "Requirement already satisfied: transformers in c:\\users\\parir\\anaconda3\\envs\\projet7\\lib\\site-packages (from -r requirements.txt (line 3)) (4.48.3)\n",
      "Requirement already satisfied: uvicorn in c:\\users\\parir\\anaconda3\\envs\\projet7\\lib\\site-packages (from -r requirements.txt (line 4)) (0.34.0)\n",
      "Requirement already satisfied: starlette<0.42.0,>=0.40.0 in c:\\users\\parir\\anaconda3\\envs\\projet7\\lib\\site-packages (from fastapi->-r requirements.txt (line 1)) (0.41.3)\n",
      "Requirement already satisfied: pydantic!=1.8,!=1.8.1,!=2.0.0,!=2.0.1,!=2.1.0,<3.0.0,>=1.7.4 in c:\\users\\parir\\anaconda3\\envs\\projet7\\lib\\site-packages (from fastapi->-r requirements.txt (line 1)) (2.10.5)\n",
      "Requirement already satisfied: typing-extensions>=4.8.0 in c:\\users\\parir\\anaconda3\\envs\\projet7\\lib\\site-packages (from fastapi->-r requirements.txt (line 1)) (4.12.2)\n",
      "Requirement already satisfied: filelock in c:\\users\\parir\\anaconda3\\envs\\projet7\\lib\\site-packages (from torch->-r requirements.txt (line 2)) (3.17.0)\n",
      "Requirement already satisfied: networkx in c:\\users\\parir\\anaconda3\\envs\\projet7\\lib\\site-packages (from torch->-r requirements.txt (line 2)) (3.4.2)\n",
      "Requirement already satisfied: jinja2 in c:\\users\\parir\\anaconda3\\envs\\projet7\\lib\\site-packages (from torch->-r requirements.txt (line 2)) (3.1.4)\n",
      "Requirement already satisfied: fsspec in c:\\users\\parir\\anaconda3\\envs\\projet7\\lib\\site-packages (from torch->-r requirements.txt (line 2)) (2024.9.0)\n",
      "Requirement already satisfied: setuptools in c:\\users\\parir\\anaconda3\\envs\\projet7\\lib\\site-packages (from torch->-r requirements.txt (line 2)) (75.1.0)\n",
      "Requirement already satisfied: sympy==1.13.1 in c:\\users\\parir\\anaconda3\\envs\\projet7\\lib\\site-packages (from torch->-r requirements.txt (line 2)) (1.13.1)\n",
      "Requirement already satisfied: mpmath<1.4,>=1.1.0 in c:\\users\\parir\\anaconda3\\envs\\projet7\\lib\\site-packages (from sympy==1.13.1->torch->-r requirements.txt (line 2)) (1.3.0)\n",
      "Requirement already satisfied: huggingface-hub<1.0,>=0.24.0 in c:\\users\\parir\\anaconda3\\envs\\projet7\\lib\\site-packages (from transformers->-r requirements.txt (line 3)) (0.28.1)\n",
      "Requirement already satisfied: numpy>=1.17 in c:\\users\\parir\\anaconda3\\envs\\projet7\\lib\\site-packages (from transformers->-r requirements.txt (line 3)) (2.0.2)\n",
      "Requirement already satisfied: packaging>=20.0 in c:\\users\\parir\\anaconda3\\envs\\projet7\\lib\\site-packages (from transformers->-r requirements.txt (line 3)) (24.2)\n",
      "Requirement already satisfied: pyyaml>=5.1 in c:\\users\\parir\\anaconda3\\envs\\projet7\\lib\\site-packages (from transformers->-r requirements.txt (line 3)) (6.0.2)\n",
      "Requirement already satisfied: regex!=2019.12.17 in c:\\users\\parir\\anaconda3\\envs\\projet7\\lib\\site-packages (from transformers->-r requirements.txt (line 3)) (2024.11.6)\n",
      "Requirement already satisfied: requests in c:\\users\\parir\\anaconda3\\envs\\projet7\\lib\\site-packages (from transformers->-r requirements.txt (line 3)) (2.32.3)\n",
      "Requirement already satisfied: tokenizers<0.22,>=0.21 in c:\\users\\parir\\anaconda3\\envs\\projet7\\lib\\site-packages (from transformers->-r requirements.txt (line 3)) (0.21.0)\n",
      "Requirement already satisfied: safetensors>=0.4.1 in c:\\users\\parir\\anaconda3\\envs\\projet7\\lib\\site-packages (from transformers->-r requirements.txt (line 3)) (0.5.2)\n",
      "Requirement already satisfied: tqdm>=4.27 in c:\\users\\parir\\anaconda3\\envs\\projet7\\lib\\site-packages (from transformers->-r requirements.txt (line 3)) (4.67.1)\n",
      "Requirement already satisfied: click>=7.0 in c:\\users\\parir\\anaconda3\\envs\\projet7\\lib\\site-packages (from uvicorn->-r requirements.txt (line 4)) (8.1.7)\n",
      "Requirement already satisfied: h11>=0.8 in c:\\users\\parir\\anaconda3\\envs\\projet7\\lib\\site-packages (from uvicorn->-r requirements.txt (line 4)) (0.14.0)\n",
      "Requirement already satisfied: colorama in c:\\users\\parir\\anaconda3\\envs\\projet7\\lib\\site-packages (from click>=7.0->uvicorn->-r requirements.txt (line 4)) (0.4.6)\n",
      "Requirement already satisfied: annotated-types>=0.6.0 in c:\\users\\parir\\anaconda3\\envs\\projet7\\lib\\site-packages (from pydantic!=1.8,!=1.8.1,!=2.0.0,!=2.0.1,!=2.1.0,<3.0.0,>=1.7.4->fastapi->-r requirements.txt (line 1)) (0.7.0)\n",
      "Requirement already satisfied: pydantic-core==2.27.2 in c:\\users\\parir\\anaconda3\\envs\\projet7\\lib\\site-packages (from pydantic!=1.8,!=1.8.1,!=2.0.0,!=2.0.1,!=2.1.0,<3.0.0,>=1.7.4->fastapi->-r requirements.txt (line 1)) (2.27.2)\n",
      "Requirement already satisfied: anyio<5,>=3.4.0 in c:\\users\\parir\\anaconda3\\envs\\projet7\\lib\\site-packages (from starlette<0.42.0,>=0.40.0->fastapi->-r requirements.txt (line 1)) (4.6.2)\n",
      "Requirement already satisfied: MarkupSafe>=2.0 in c:\\users\\parir\\anaconda3\\envs\\projet7\\lib\\site-packages (from jinja2->torch->-r requirements.txt (line 2)) (2.1.3)\n",
      "Requirement already satisfied: charset-normalizer<4,>=2 in c:\\users\\parir\\anaconda3\\envs\\projet7\\lib\\site-packages (from requests->transformers->-r requirements.txt (line 3)) (3.3.2)\n",
      "Requirement already satisfied: idna<4,>=2.5 in c:\\users\\parir\\anaconda3\\envs\\projet7\\lib\\site-packages (from requests->transformers->-r requirements.txt (line 3)) (3.7)\n",
      "Requirement already satisfied: urllib3<3,>=1.21.1 in c:\\users\\parir\\anaconda3\\envs\\projet7\\lib\\site-packages (from requests->transformers->-r requirements.txt (line 3)) (2.2.3)\n",
      "Requirement already satisfied: certifi>=2017.4.17 in c:\\users\\parir\\anaconda3\\envs\\projet7\\lib\\site-packages (from requests->transformers->-r requirements.txt (line 3)) (2024.12.14)\n",
      "Requirement already satisfied: sniffio>=1.1 in c:\\users\\parir\\anaconda3\\envs\\projet7\\lib\\site-packages (from anyio<5,>=3.4.0->starlette<0.42.0,>=0.40.0->fastapi->-r requirements.txt (line 1)) (1.3.0)\n",
      "Note: you may need to restart the kernel to use updated packages.\n"
     ]
    }
   ],
   "source": [
    "pip install -r requirements.txt"
   ]
  },
  {
   "cell_type": "code",
   "execution_count": null,
   "id": "a22b8780-d6be-4d62-bd4c-cdbb48a5898e",
   "metadata": {},
   "outputs": [],
   "source": []
  }
 ],
 "metadata": {
  "kernelspec": {
   "display_name": "Python 3 (ipykernel)",
   "language": "python",
   "name": "python3"
  },
  "language_info": {
   "codemirror_mode": {
    "name": "ipython",
    "version": 3
   },
   "file_extension": ".py",
   "mimetype": "text/x-python",
   "name": "python",
   "nbconvert_exporter": "python",
   "pygments_lexer": "ipython3",
   "version": "3.12.8"
  }
 },
 "nbformat": 4,
 "nbformat_minor": 5
}
